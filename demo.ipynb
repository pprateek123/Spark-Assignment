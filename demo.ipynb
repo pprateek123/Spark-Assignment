{
 "cells": [
  {
   "cell_type": "code",
   "execution_count": 1,
   "metadata": {},
   "outputs": [],
   "source": [
    "import findspark\n",
    "findspark.init()\n",
    "from pyspark.sql import SparkSession\n",
    "from pyspark.sql.types import StructType, StructField, StringType, IntegerType"
   ]
  },
  {
   "cell_type": "code",
   "execution_count": 5,
   "metadata": {},
   "outputs": [
    {
     "name": "stderr",
     "output_type": "stream",
     "text": [
      "23/08/29 13:50:12 WARN Utils: Your hostname, ubuntu-HP-Pavilion-Gaming-Laptop-15-cx0xxx resolves to a loopback address: 127.0.1.1; using 172.16.5.113 instead (on interface wlo1)\n",
      "23/08/29 13:50:12 WARN Utils: Set SPARK_LOCAL_IP if you need to bind to another address\n",
      "Setting default log level to \"WARN\".\n",
      "To adjust logging level use sc.setLogLevel(newLevel). For SparkR, use setLogLevel(newLevel).\n",
      "23/08/29 13:50:13 WARN NativeCodeLoader: Unable to load native-hadoop library for your platform... using builtin-java classes where applicable\n"
     ]
    }
   ],
   "source": [
    "\n",
    "spark = SparkSession.builder.appName(\"PySparkDemo\").getOrCreate()"
   ]
  },
  {
   "cell_type": "code",
   "execution_count": 7,
   "metadata": {},
   "outputs": [],
   "source": [
    "#creating a schema for cdataframe\n",
    "schema = StructType([\n",
    "    StructField(\"Name\",StringType(),True),\n",
    "    StructField(\"Age\",IntegerType(),True),\n",
    "    StructField(\"Gender\",StringType(),True),\n",
    "    StructField(\"Salary\",IntegerType(),True)\n",
    "])\n",
    "\n",
    "\n",
    "#creating DataFrame\n",
    "data = [\n",
    "    (\"Alice\",28,\"Female\",60000),\n",
    "    (\"Bob\",35,\"Male\",75000),\n",
    "    (\"Charlie\",22,\"Male\",50000),\n",
    "    (\"Diana\",31,\"Female\",80000)\n",
    "]\n",
    "\n",
    "df = spark.createDataFrame(data, schema = schema)\n"
   ]
  },
  {
   "cell_type": "code",
   "execution_count": 13,
   "metadata": {},
   "outputs": [
    {
     "name": "stdout",
     "output_type": "stream",
     "text": [
      "Sample data:\n",
      "+-------+---+------+------+\n",
      "|   Name|Age|Gender|Salary|\n",
      "+-------+---+------+------+\n",
      "|  Alice| 28|Female| 60000|\n",
      "|    Bob| 35|  Male| 75000|\n",
      "|Charlie| 22|  Male| 50000|\n",
      "|  Diana| 31|Female| 80000|\n",
      "+-------+---+------+------+\n",
      "\n",
      "Transformed data:\n",
      "+------+-----------+--------+\n",
      "|Gender|avg(Salary)|max(Age)|\n",
      "+------+-----------+--------+\n",
      "|Female|    70000.0|      31|\n",
      "|  Male|    75000.0|      35|\n",
      "+------+-----------+--------+\n",
      "\n"
     ]
    }
   ],
   "source": [
    "#show the DataFrame\n",
    "print(\"Sample data:\")\n",
    "df.show()\n",
    "\n",
    "#Perform transforamtions\n",
    "filtered_data = df.filter(df['Age']>25)\n",
    "grouped_data = filtered_data.groupby(\"Gender\").agg({\"Salary\":\"avg\",\n",
    "\"Age\":\"max\"})\n",
    "filter\n",
    "#show transformed data\n",
    "print(\"Transformed data:\")\n",
    "grouped_data.show()"
   ]
  },
  {
   "cell_type": "code",
   "execution_count": null,
   "metadata": {},
   "outputs": [],
   "source": []
  }
 ],
 "metadata": {
  "kernelspec": {
   "display_name": ".venv",
   "language": "python",
   "name": "python3"
  },
  "language_info": {
   "codemirror_mode": {
    "name": "ipython",
    "version": 3
   },
   "file_extension": ".py",
   "mimetype": "text/x-python",
   "name": "python",
   "nbconvert_exporter": "python",
   "pygments_lexer": "ipython3",
   "version": "3.10.12"
  },
  "orig_nbformat": 4
 },
 "nbformat": 4,
 "nbformat_minor": 2
}
