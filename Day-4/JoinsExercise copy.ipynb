{
 "cells": [
  {
   "attachments": {},
   "cell_type": "markdown",
   "metadata": {},
   "source": [
    "## Joins"
   ]
  },
  {
   "cell_type": "code",
   "execution_count": 42,
   "metadata": {},
   "outputs": [],
   "source": [
    "\n",
    "import findspark \n",
    "findspark.init()\n",
    "from pyspark.sql import SparkSession\n",
    "\n",
    "# Create a Spark session\n",
    "spark = SparkSession.builder.appName(\"day3\").getOrCreate()\n"
   ]
  },
  {
   "attachments": {},
   "cell_type": "markdown",
   "metadata": {},
   "source": [
    "\n",
    "Question: You are given two DataFrames: employees_df and departments_df, which contain information about employees and their respective departments. The schema for the DataFrames is as follows:\n",
    "\n",
    "employees_df schema:\n",
    "|-- employee_id: integer (nullable = true)\n",
    "|-- employee_name: string (nullable = true)\n",
    "|-- department_id: integer (nullable = true)\n",
    "\n",
    "departments_df schema:\n",
    "\n",
    "|-- department_id: integer (nullable = true)\n",
    "|-- department_name: string (nullable = true)\n",
    "\n",
    "Employees DataFrame:\n",
    "                                                                                \n",
    "+-----------+-------------+-------------+\n",
    "|employee_id|employee_name|department_id|\n",
    "+-----------+-------------+-------------+\n",
    "|1          |Pallavi mam  |101          |\n",
    "|2          |Bob          |102          |\n",
    "|3          |Cathy        |101          |\n",
    "|4          |David        |103          |\n",
    "|5          |Amrit Sir    |104          |\n",
    "|6          |Alice        |null         |\n",
    "|7          |Eva          |null         |\n",
    "|8          |Frank        |110          |\n",
    "|9          |Grace        |109          |\n",
    "|10         |Henry        |null         |\n",
    "+-----------+-------------+-------------+\n",
    "\n",
    "\n",
    "\n",
    "Departments DataFrame:\n",
    "+-------------+------------------------+\n",
    "|department_id|department_name         |\n",
    "+-------------+------------------------+\n",
    "|101          |HR                      |\n",
    "|102          |Engineering             |\n",
    "|103          |Finance                 |\n",
    "|104          |Marketing               |\n",
    "|105          |Operations              |\n",
    "|106          |null                    |\n",
    "|107          |Operations              |\n",
    "|108          |Production              |\n",
    "|null         |Finance                 |\n",
    "|110          |Research and Development|\n",
    "+-------------+----------------------\n"
   ]
  },
  {
   "cell_type": "code",
   "execution_count": 43,
   "metadata": {},
   "outputs": [
    {
     "name": "stdout",
     "output_type": "stream",
     "text": [
      "root\n",
      " |-- employee_id: integer (nullable = false)\n",
      " |-- employee_name: string (nullable = true)\n",
      " |-- department_id: integer (nullable = true)\n",
      "\n",
      "+-----------+-------------+-------------+\n",
      "|employee_id|employee_name|department_id|\n",
      "+-----------+-------------+-------------+\n",
      "|          1|  Pallavi mam|          101|\n",
      "|          2|          Bob|          102|\n",
      "|          3|        Cathy|          101|\n",
      "|          4|        David|          103|\n",
      "|          5|    Amrit Sir|          104|\n",
      "|          6|        Alice|         null|\n",
      "|          7|          Eva|         null|\n",
      "|          8|        Frank|          110|\n",
      "|          9|        Grace|          109|\n",
      "|         10|        Henry|         null|\n",
      "+-----------+-------------+-------------+\n",
      "\n",
      "root\n",
      " |-- department_id: integer (nullable = true)\n",
      " |-- department_name: string (nullable = true)\n",
      "\n",
      "+-------------+--------------------+\n",
      "|department_id|     department_name|\n",
      "+-------------+--------------------+\n",
      "|          101|                  HR|\n",
      "|          102|         Engineering|\n",
      "|          103|             Finance|\n",
      "|          104|           Marketing|\n",
      "|          105|          Operations|\n",
      "|          106|                null|\n",
      "|          107|          Operations|\n",
      "|          108|          Production|\n",
      "|         null|             Finance|\n",
      "|          110|Research and Deve...|\n",
      "+-------------+--------------------+\n",
      "\n"
     ]
    }
   ],
   "source": [
    "from pyspark.sql.types import StructType, StructField, IntegerType, StringType\n",
    "\n",
    "schema = StructType([\n",
    "    StructField(\"employee_id\", IntegerType(), False),\n",
    "    StructField(\"employee_name\", StringType(), True),\n",
    "    StructField(\"department_id\", IntegerType(), True)\n",
    "])\n",
    "\n",
    "data = [\n",
    "    (1, \"Pallavi mam\", 101),\n",
    "    (2, \"Bob\", 102),\n",
    "    (3, \"Cathy\", 101),\n",
    "    (4, \"David\", 103),\n",
    "    (5, \"Amrit Sir\", 104),\n",
    "    (6, \"Alice\", None),\n",
    "    (7, \"Eva\", None),\n",
    "    (8, \"Frank\", 110),\n",
    "    (9, \"Grace\", 109),\n",
    "    (10, \"Henry\", None)\n",
    "]\n",
    "\n",
    "employees_df = spark.createDataFrame(data, schema=schema)\n",
    "schema = StructType([\n",
    "    StructField(\"department_id\", IntegerType(), True),\n",
    "    StructField(\"department_name\", StringType(), True)\n",
    "])\n",
    "\n",
    "data = [\n",
    "    (101, \"HR\"),\n",
    "    (102, \"Engineering\"),\n",
    "    (103, \"Finance\"),\n",
    "    (104, \"Marketing\"),\n",
    "    (105, \"Operations\"),\n",
    "    (106, None),\n",
    "    (107, \"Operations\"),\n",
    "    (108, \"Production\"),\n",
    "    (None, \"Finance\"),\n",
    "    (110, \"Research and Development\")\n",
    "]\n",
    "\n",
    "departments_df = spark.createDataFrame(data, schema=schema)\n",
    "employees_df.printSchema()\n",
    "employees_df.show()\n",
    "departments_df.printSchema()\n",
    "departments_df.show()\n",
    "\n"
   ]
  },
  {
   "attachments": {},
   "cell_type": "markdown",
   "metadata": {},
   "source": [
    "### Join Expressions\n",
    "\n",
    "Question: How can you combine the employees_df and departments_df DataFrames based on the common \"department_id\" column to get a combined DataFrame with employee names and their respective department names?"
   ]
  },
  {
   "cell_type": "code",
   "execution_count": 44,
   "metadata": {},
   "outputs": [
    {
     "name": "stderr",
     "output_type": "stream",
     "text": [
      "[Stage 75:=============>    (6 + 2) / 8][Stage 76:>                 (0 + 8) / 8]\r"
     ]
    },
    {
     "name": "stdout",
     "output_type": "stream",
     "text": [
      "+-------------+-----------+-------------+--------------------+\n",
      "|department_id|employee_id|employee_name|     department_name|\n",
      "+-------------+-----------+-------------+--------------------+\n",
      "|          101|          1|  Pallavi mam|                  HR|\n",
      "|          101|          3|        Cathy|                  HR|\n",
      "|          102|          2|          Bob|         Engineering|\n",
      "|          103|          4|        David|             Finance|\n",
      "|          104|          5|    Amrit Sir|           Marketing|\n",
      "|          110|          8|        Frank|Research and Deve...|\n",
      "+-------------+-----------+-------------+--------------------+\n",
      "\n"
     ]
    },
    {
     "name": "stderr",
     "output_type": "stream",
     "text": [
      "                                                                                \r"
     ]
    }
   ],
   "source": [
    "# this can be done using the join as given below. \n",
    "\n",
    "join_exp = employees_df['department_id'] == departments_df['department_id']\n",
    "result_df = employees_df.join(departments_df,join_exp).select(departments_df['department_id'],'employee_id','employee_name','department_name')\n",
    "result_df.show()"
   ]
  },
  {
   "attachments": {},
   "cell_type": "markdown",
   "metadata": {},
   "source": [
    "### Inner Joins\n",
    "\n",
    "Question: How can you retrieve employee names and their respective department names for employees belonging to the \"Engineering\" department?"
   ]
  },
  {
   "cell_type": "code",
   "execution_count": 45,
   "metadata": {},
   "outputs": [
    {
     "name": "stdout",
     "output_type": "stream",
     "text": [
      "+-------------+---------------+\n",
      "|employee_name|department_name|\n",
      "+-------------+---------------+\n",
      "|          Bob|    Engineering|\n",
      "+-------------+---------------+\n",
      "\n"
     ]
    }
   ],
   "source": [
    "#we can do inner join to perform this \n",
    "# we use select method in order to select the required columns\n",
    "#here , we have used the where clause in order to show the department name of employee bob as shown in the notebook \n",
    "join_type = 'inner'\n",
    "join_exp2 = employees_df['department_id']==departments_df['department_id']\n",
    "\n",
    "employees_df.join(departments_df,join_exp2,join_type).select('employee_name','department_name')\\\n",
    "    .where(employees_df['employee_name']=='Bob').show()"
   ]
  },
  {
   "attachments": {},
   "cell_type": "markdown",
   "metadata": {},
   "source": [
    "### Outer Joins\n",
    "\n",
    "Question: Retrieve a DataFrame that contains all employees along with their department names. If an employee doesn't have a department assigned, display \"No Department\"."
   ]
  },
  {
   "cell_type": "code",
   "execution_count": 46,
   "metadata": {},
   "outputs": [
    {
     "name": "stdout",
     "output_type": "stream",
     "text": [
      "+-------------+--------------------+\n",
      "|employee_name|     department_name|\n",
      "+-------------+--------------------+\n",
      "|        Alice|       No Department|\n",
      "|          Eva|       No Department|\n",
      "|        Henry|       No Department|\n",
      "|No Department|             Finance|\n",
      "|  Pallavi mam|                  HR|\n",
      "|        Cathy|                  HR|\n",
      "|          Bob|         Engineering|\n",
      "|        David|             Finance|\n",
      "|    Amrit Sir|           Marketing|\n",
      "|No Department|          Operations|\n",
      "|No Department|       No Department|\n",
      "|No Department|          Operations|\n",
      "|No Department|          Production|\n",
      "|        Grace|       No Department|\n",
      "|        Frank|Research and Deve...|\n",
      "+-------------+--------------------+\n",
      "\n"
     ]
    }
   ],
   "source": [
    "#we can do this using the  full outer joins , \n",
    "#here , if we use full outer join then we also get to see the null values getting replaced with 'no department' in the employee_name column\n",
    "#we use na.fill method in order to fill the null values with \"no department\" for the whole table as shown i expected output\n",
    "join_type = 'outer'\n",
    "# we areusing join expression of above because of the same keys \n",
    "\n",
    "employees_df.join(departments_df,join_exp,join_type)\\\n",
    "            .select('employee_name',departments_df['department_name'])\\\n",
    "            .na.fill('No Department')\\\n",
    "            .show()"
   ]
  },
  {
   "attachments": {},
   "cell_type": "markdown",
   "metadata": {},
   "source": [
    "### Left Outer Joins\n",
    "\n",
    "Question: List all employees along with their department names. If an employee doesn't have a department assigned, display \"No Department\"."
   ]
  },
  {
   "cell_type": "code",
   "execution_count": 47,
   "metadata": {},
   "outputs": [
    {
     "name": "stdout",
     "output_type": "stream",
     "text": [
      "+-------------+--------------------+\n",
      "|employee_name|     department_name|\n",
      "+-------------+--------------------+\n",
      "|  Pallavi mam|                  HR|\n",
      "|          Bob|         Engineering|\n",
      "|        Cathy|                  HR|\n",
      "|        David|             Finance|\n",
      "|    Amrit Sir|           Marketing|\n",
      "|        Alice|       No Department|\n",
      "|          Eva|       No Department|\n",
      "|        Frank|Research and Deve...|\n",
      "|        Henry|       No Department|\n",
      "|        Grace|       No Department|\n",
      "+-------------+--------------------+\n",
      "\n"
     ]
    }
   ],
   "source": [
    "# we can solve this problem using the left jon mehtod given below\n",
    "\n",
    "join_type = 'left_outer'\n",
    "\n",
    "employees_df.join(departments_df,join_exp,join_type)\\\n",
    "            .select('employee_name',departments_df['department_name'])\\\n",
    "            .na.fill('No Department')\\\n",
    "            .show()"
   ]
  },
  {
   "attachments": {},
   "cell_type": "markdown",
   "metadata": {},
   "source": [
    "### Right Outer Joins\n",
    "\n",
    "Question: Display a list of departments along with employee names. If a department has no employees, display \"No Employees\".\n",
    "\n"
   ]
  },
  {
   "cell_type": "code",
   "execution_count": 48,
   "metadata": {},
   "outputs": [
    {
     "name": "stdout",
     "output_type": "stream",
     "text": [
      "+--------------------+-------------+\n",
      "|     department_name|employee_name|\n",
      "+--------------------+-------------+\n",
      "|                  HR|        Cathy|\n",
      "|                  HR|  Pallavi mam|\n",
      "|         Engineering|          Bob|\n",
      "|             Finance|        David|\n",
      "|          Operations|  No Employee|\n",
      "|           Marketing|    Amrit Sir|\n",
      "|         No Employee|  No Employee|\n",
      "|          Operations|  No Employee|\n",
      "|          Production|  No Employee|\n",
      "|             Finance|  No Employee|\n",
      "|Research and Deve...|        Frank|\n",
      "+--------------------+-------------+\n",
      "\n"
     ]
    }
   ],
   "source": [
    "# we can do this as follows \n",
    "\n",
    "join_type = 'right_outer'\n",
    "\n",
    "employees_df.join(departments_df, join_exp,join_type)\\\n",
    "            .select(departments_df['department_name'], 'employee_name')\\\n",
    "            .na.fill('No Employee')\\\n",
    "            .show()"
   ]
  },
  {
   "attachments": {},
   "cell_type": "markdown",
   "metadata": {},
   "source": [
    "### Left Semi Joins\n",
    "\n",
    "Question: Retrieve a DataFrame that includes employee names for departments that have employees.\n",
    "\n"
   ]
  },
  {
   "cell_type": "code",
   "execution_count": 49,
   "metadata": {},
   "outputs": [
    {
     "name": "stdout",
     "output_type": "stream",
     "text": [
      "+-------------+\n",
      "|employee_name|\n",
      "+-------------+\n",
      "|  Pallavi mam|\n",
      "|        Cathy|\n",
      "|          Bob|\n",
      "|        David|\n",
      "|    Amrit Sir|\n",
      "|        Frank|\n",
      "+-------------+\n",
      "\n"
     ]
    }
   ],
   "source": [
    "# we can do this using left semi join to check wherether the employee in the left table has /doesnthave deparment value in the right table\n",
    "\n",
    "join_type = 'left_semi'\n",
    "\n",
    "employees_df.join(departments_df,join_exp,join_type)\\\n",
    "            .select('employee_name')\\\n",
    "            .show()"
   ]
  },
  {
   "attachments": {},
   "cell_type": "markdown",
   "metadata": {},
   "source": [
    "### Left Anti Joins\n",
    "\n",
    "Question: Find the employees who don't belong to any department."
   ]
  },
  {
   "cell_type": "code",
   "execution_count": 52,
   "metadata": {},
   "outputs": [
    {
     "name": "stdout",
     "output_type": "stream",
     "text": [
      "+-------------+\n",
      "|employee_name|\n",
      "+-------------+\n",
      "|        Alice|\n",
      "|          Eva|\n",
      "|        Henry|\n",
      "|        Grace|\n",
      "+-------------+\n",
      "\n"
     ]
    }
   ],
   "source": [
    "join_type='left_anti'\n",
    "\n",
    "employees_df.join(departments_df,join_exp,join_type)\\\n",
    "            .select('employee_name')\\\n",
    "            .show()"
   ]
  },
  {
   "attachments": {},
   "cell_type": "markdown",
   "metadata": {},
   "source": [
    "### Cross (Cartesian) Joins\n",
    "\n",
    "Question: Create a DataFrame that contains all possible combinations of employees and departments."
   ]
  },
  {
   "cell_type": "code",
   "execution_count": 56,
   "metadata": {},
   "outputs": [
    {
     "name": "stderr",
     "output_type": "stream",
     "text": [
      "[Stage 131:==========================>                             (9 + 8) / 19]\r"
     ]
    },
    {
     "name": "stdout",
     "output_type": "stream",
     "text": [
      "+-----------+-------------+-------------+-------------+--------------------+\n",
      "|employee_id|employee_name|department_id|department_id|     department_name|\n",
      "+-----------+-------------+-------------+-------------+--------------------+\n",
      "|          1|  Pallavi mam|          101|          101|                  HR|\n",
      "|          1|  Pallavi mam|          101|          102|         Engineering|\n",
      "|          1|  Pallavi mam|          101|          103|             Finance|\n",
      "|          1|  Pallavi mam|          101|          104|           Marketing|\n",
      "|          1|  Pallavi mam|          101|          105|          Operations|\n",
      "|          1|  Pallavi mam|          101|          106|                null|\n",
      "|          1|  Pallavi mam|          101|          107|          Operations|\n",
      "|          1|  Pallavi mam|          101|          108|          Production|\n",
      "|          1|  Pallavi mam|          101|         null|             Finance|\n",
      "|          1|  Pallavi mam|          101|          110|Research and Deve...|\n",
      "|          2|          Bob|          102|          101|                  HR|\n",
      "|          2|          Bob|          102|          102|         Engineering|\n",
      "|          2|          Bob|          102|          103|             Finance|\n",
      "|          2|          Bob|          102|          104|           Marketing|\n",
      "|          2|          Bob|          102|          105|          Operations|\n",
      "|          2|          Bob|          102|          106|                null|\n",
      "|          2|          Bob|          102|          107|          Operations|\n",
      "|          2|          Bob|          102|          108|          Production|\n",
      "|          2|          Bob|          102|         null|             Finance|\n",
      "|          2|          Bob|          102|          110|Research and Deve...|\n",
      "+-----------+-------------+-------------+-------------+--------------------+\n",
      "only showing top 20 rows\n",
      "\n"
     ]
    },
    {
     "name": "stderr",
     "output_type": "stream",
     "text": [
      "                                                                                \r"
     ]
    }
   ],
   "source": [
    "employees_df.crossJoin(departments_df).show()"
   ]
  },
  {
   "cell_type": "code",
   "execution_count": null,
   "metadata": {},
   "outputs": [],
   "source": []
  }
 ],
 "metadata": {
  "kernelspec": {
   "display_name": ".venv",
   "language": "python",
   "name": ".venv"
  },
  "language_info": {
   "codemirror_mode": {
    "name": "ipython",
    "version": 3
   },
   "file_extension": ".py",
   "mimetype": "text/x-python",
   "name": "python",
   "nbconvert_exporter": "python",
   "pygments_lexer": "ipython3",
   "version": "3.10.12"
  },
  "orig_nbformat": 4
 },
 "nbformat": 4,
 "nbformat_minor": 2
}
